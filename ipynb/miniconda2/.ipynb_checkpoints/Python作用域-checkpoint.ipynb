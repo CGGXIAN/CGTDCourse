{
 "cells": [
  {
   "cell_type": "code",
   "execution_count": 1,
   "metadata": {},
   "outputs": [
    {
     "name": "stdout",
     "output_type": "stream",
     "text": [
      "{'_dh': [u'D:\\\\2019\\\\test\\\\CGTDCourse\\\\ipynb\\\\miniconda2'], '_sh': <module 'IPython.core.shadowns' from 'C:\\ProgramData\\Miniconda2\\lib\\site-packages\\IPython\\core\\shadowns.pyc'>, '_i1': u'print(locals())\\nprint(globals())', '_ii': u'', 'quit': <IPython.core.autocall.ZMQExitAutocall object at 0x0000000004DE2908>, '__builtins__': <module '__builtin__' (built-in)>, 'In': ['', u'print(locals())\\nprint(globals())'], '__builtin__': <module '__builtin__' (built-in)>, '_oh': {}, '_iii': u'', 'exit': <IPython.core.autocall.ZMQExitAutocall object at 0x0000000004DE2908>, 'get_ipython': <bound method ZMQInteractiveShell.get_ipython of <ipykernel.zmqshell.ZMQInteractiveShell object at 0x00000000049D7388>>, '__': '', '_ih': ['', u'print(locals())\\nprint(globals())'], '_i': u'', '__name__': '__main__', '___': '', '__doc__': 'Automatically created module for IPython interactive environment', '_': '', 'Out': {}}\n",
      "{'_dh': [u'D:\\\\2019\\\\test\\\\CGTDCourse\\\\ipynb\\\\miniconda2'], '_sh': <module 'IPython.core.shadowns' from 'C:\\ProgramData\\Miniconda2\\lib\\site-packages\\IPython\\core\\shadowns.pyc'>, '_i1': u'print(locals())\\nprint(globals())', '_ii': u'', 'quit': <IPython.core.autocall.ZMQExitAutocall object at 0x0000000004DE2908>, '__builtins__': <module '__builtin__' (built-in)>, 'In': ['', u'print(locals())\\nprint(globals())'], '__builtin__': <module '__builtin__' (built-in)>, '_oh': {}, '_iii': u'', 'exit': <IPython.core.autocall.ZMQExitAutocall object at 0x0000000004DE2908>, 'get_ipython': <bound method ZMQInteractiveShell.get_ipython of <ipykernel.zmqshell.ZMQInteractiveShell object at 0x00000000049D7388>>, '__': '', '_ih': ['', u'print(locals())\\nprint(globals())'], '_i': u'', '__name__': '__main__', '___': '', '__doc__': 'Automatically created module for IPython interactive environment', '_': '', 'Out': {}}\n"
     ]
    }
   ],
   "source": [
    "print(locals())\n",
    "print(globals())"
   ]
  }
 ],
 "metadata": {
  "kernelspec": {
   "display_name": "Python 2",
   "language": "python",
   "name": "python2"
  },
  "language_info": {
   "codemirror_mode": {
    "name": "ipython",
    "version": 2
   },
   "file_extension": ".py",
   "mimetype": "text/x-python",
   "name": "python",
   "nbconvert_exporter": "python",
   "pygments_lexer": "ipython2",
   "version": "2.7.18"
  }
 },
 "nbformat": 4,
 "nbformat_minor": 2
}
