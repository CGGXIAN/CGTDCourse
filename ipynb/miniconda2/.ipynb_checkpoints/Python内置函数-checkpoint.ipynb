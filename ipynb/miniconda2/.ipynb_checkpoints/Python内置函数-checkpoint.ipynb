{
 "cells": [
  {
   "cell_type": "code",
   "execution_count": 7,
   "metadata": {
    "scrolled": true
   },
   "outputs": [
    {
     "name": "stdout",
     "output_type": "stream",
     "text": [
      "['__displayhook__', '__doc__', '__excepthook__', '__name__', '__package__', '__stderr__', '__stdin__', '__stdout__', '_clear_type_cache', '_current_frames', '_getframe', '_git', 'api_version', 'argv', 'builtin_module_names', 'byteorder', 'call_tracing', 'callstats', 'copyright', 'displayhook', 'dllhandle', 'dont_write_bytecode', 'exc_clear', 'exc_info', 'exc_type', 'excepthook', 'exec_prefix', 'executable', 'exit', 'exitfunc', 'flags', 'float_info', 'float_repr_style', 'getcheckinterval', 'getdefaultencoding', 'getfilesystemencoding', 'getprofile', 'getrecursionlimit', 'getrefcount', 'getsizeof', 'gettrace', 'getwindowsversion', 'hexversion', 'long_info', 'maxint', 'maxsize', 'maxunicode', 'meta_path', 'modules', 'path', 'path_hooks', 'path_importer_cache', 'platform', 'prefix', 'ps1', 'ps2', 'ps3', 'py3kwarning', 'setcheckinterval', 'setprofile', 'setrecursionlimit', 'settrace', 'stderr', 'stdin', 'stdout', 'subversion', 'version', 'version_info', 'warnoptions', 'winver']\n",
      "2.7.18 |Anaconda, Inc.| (default, Apr 23 2020, 17:26:54) [MSC v.1500 64 bit (AMD64)]\n",
      "['', 'C:\\\\ProgramData\\\\Miniconda2\\\\python27.zip', 'C:\\\\ProgramData\\\\Miniconda2\\\\DLLs', 'C:\\\\ProgramData\\\\Miniconda2\\\\lib', 'C:\\\\ProgramData\\\\Miniconda2\\\\lib\\\\plat-win', 'C:\\\\ProgramData\\\\Miniconda2\\\\lib\\\\lib-tk', 'C:\\\\ProgramData\\\\Miniconda2', 'C:\\\\Users\\\\huweiguo\\\\AppData\\\\Roaming\\\\Python\\\\Python27\\\\site-packages', 'C:\\\\ProgramData\\\\Miniconda2\\\\lib\\\\site-packages', 'C:\\\\ProgramData\\\\Miniconda2\\\\lib\\\\site-packages\\\\win32', 'C:\\\\ProgramData\\\\Miniconda2\\\\lib\\\\site-packages\\\\win32\\\\lib', 'C:\\\\ProgramData\\\\Miniconda2\\\\lib\\\\site-packages\\\\Pythonwin', 'C:\\\\ProgramData\\\\Miniconda2\\\\lib\\\\site-packages\\\\IPython\\\\extensions', 'C:\\\\Users\\\\huweiguo\\\\.ipython']\n"
     ]
    }
   ],
   "source": [
    "import sys\n",
    "\n",
    "print(dir(sys))\n",
    "\n",
    "print(sys.version)\n",
    "\n",
    "print(sys.path)"
   ]
  },
  {
   "cell_type": "code",
   "execution_count": 8,
   "metadata": {},
   "outputs": [
    {
     "name": "stdout",
     "output_type": "stream",
     "text": [
      "['ArithmeticError', 'AssertionError', 'AttributeError', 'BaseException', 'BufferError', 'BytesWarning', 'DeprecationWarning', 'EOFError', 'Ellipsis', 'EnvironmentError', 'Exception', 'False', 'FloatingPointError', 'FutureWarning', 'GeneratorExit', 'IOError', 'ImportError', 'ImportWarning', 'IndentationError', 'IndexError', 'KeyError', 'KeyboardInterrupt', 'LookupError', 'MemoryError', 'NameError', 'None', 'NotImplemented', 'NotImplementedError', 'OSError', 'OverflowError', 'PendingDeprecationWarning', 'ReferenceError', 'RuntimeError', 'RuntimeWarning', 'StandardError', 'StopIteration', 'SyntaxError', 'SyntaxWarning', 'SystemError', 'SystemExit', 'TabError', 'True', 'TypeError', 'UnboundLocalError', 'UnicodeDecodeError', 'UnicodeEncodeError', 'UnicodeError', 'UnicodeTranslateError', 'UnicodeWarning', 'UserWarning', 'ValueError', 'Warning', 'WindowsError', 'ZeroDivisionError', '__IPYTHON__', '__debug__', '__doc__', '__import__', '__name__', '__package__', 'abs', 'all', 'any', 'apply', 'basestring', 'bin', 'bool', 'buffer', 'bytearray', 'bytes', 'callable', 'chr', 'classmethod', 'cmp', 'coerce', 'compile', 'complex', 'copyright', 'credits', 'delattr', 'dict', 'dir', 'display', 'divmod', 'dreload', 'enumerate', 'eval', 'execfile', 'file', 'filter', 'float', 'format', 'frozenset', 'get_ipython', 'getattr', 'globals', 'hasattr', 'hash', 'help', 'hex', 'id', 'input', 'int', 'intern', 'isinstance', 'issubclass', 'iter', 'len', 'license', 'list', 'locals', 'long', 'map', 'max', 'memoryview', 'min', 'next', 'object', 'oct', 'open', 'ord', 'pow', 'print', 'property', 'range', 'raw_input', 'reduce', 'reload', 'repr', 'reversed', 'round', 'set', 'setattr', 'slice', 'sorted', 'staticmethod', 'str', 'sum', 'super', 'tuple', 'type', 'unichr', 'unicode', 'vars', 'xrange', 'zip']\n"
     ]
    }
   ],
   "source": [
    "import __builtin__\n",
    "\n",
    "print(dir(__builtin__))"
   ]
  },
  {
   "cell_type": "code",
   "execution_count": 11,
   "metadata": {},
   "outputs": [
    {
     "name": "stdout",
     "output_type": "stream",
     "text": [
      "<type 'slice'>\n",
      "el\n"
     ]
    }
   ],
   "source": [
    "print(type(slice(1, 3, 1)))\n",
    "print(\"hello world\"[slice(1, 3, 1)])"
   ]
  },
  {
   "cell_type": "code",
   "execution_count": 27,
   "metadata": {
    "scrolled": true
   },
   "outputs": [
    {
     "name": "stdout",
     "output_type": "stream",
     "text": [
      "True\n",
      "True\n",
      "True\n"
     ]
    }
   ],
   "source": [
    "from collections import Iterable\n",
    "\n",
    "print(isinstance(dict(), Iterable))\n",
    "print(isinstance(range(10), Iterable))\n",
    "print(isinstance(xrange(10), Iterable))"
   ]
  },
  {
   "cell_type": "code",
   "execution_count": 30,
   "metadata": {},
   "outputs": [
    {
     "name": "stdout",
     "output_type": "stream",
     "text": [
      "False\n",
      "False\n",
      "False\n"
     ]
    }
   ],
   "source": [
    "from collections import Iterator\n",
    "\n",
    "print(isinstance([], Iterator))\n",
    "print(isinstance(range(10), Iterator))\n",
    "print(isinstance(xrange(10), Iterator))"
   ]
  },
  {
   "cell_type": "code",
   "execution_count": 1,
   "metadata": {},
   "outputs": [
    {
     "name": "stdout",
     "output_type": "stream",
     "text": [
      "Help on built-in function reduce in module __builtin__:\n",
      "\n",
      "reduce(...)\n",
      "    reduce(function, sequence[, initial]) -> value\n",
      "    \n",
      "    Apply a function of two arguments cumulatively to the items of a sequence,\n",
      "    from left to right, so as to reduce the sequence to a single value.\n",
      "    For example, reduce(lambda x, y: x+y, [1, 2, 3, 4, 5]) calculates\n",
      "    ((((1+2)+3)+4)+5).  If initial is present, it is placed before the items\n",
      "    of the sequence in the calculation, and serves as a default when the\n",
      "    sequence is empty.\n",
      "\n",
      "None\n"
     ]
    }
   ],
   "source": [
    "print(help(reduce))"
   ]
  },
  {
   "cell_type": "code",
   "execution_count": 7,
   "metadata": {},
   "outputs": [
    {
     "name": "stdout",
     "output_type": "stream",
     "text": [
      "0 + 1 = 1\n",
      "1 + 2 = 3\n",
      "3 + 3 = 6\n",
      "6 + 4 = 10\n",
      "10\n",
      "5050\n",
      "10\n",
      "19\n"
     ]
    }
   ],
   "source": [
    "def add(a, b):\n",
    "    result = a + b\n",
    "    print(\"%d + %d = %d\" % (a, b, result))\n",
    "    return result\n",
    "\n",
    "print(reduce(add, range(5)))\n",
    "\n",
    "print(reduce(lambda x, y: x + y, range(101)))\n",
    "\n",
    "def minFunc(a, b):\n",
    "    return a if a < b else b\n",
    "\n",
    "def maxFunc(a, b):\n",
    "    return a if a > b else b\n",
    "\n",
    "print(reduce(minFunc, range(10, 20)))\n",
    "print(reduce(maxFunc, range(10, 20)))"
   ]
  }
 ],
 "metadata": {
  "kernelspec": {
   "display_name": "Python 2",
   "language": "python",
   "name": "python2"
  },
  "language_info": {
   "codemirror_mode": {
    "name": "ipython",
    "version": 2
   },
   "file_extension": ".py",
   "mimetype": "text/x-python",
   "name": "python",
   "nbconvert_exporter": "python",
   "pygments_lexer": "ipython2",
   "version": "2.7.18"
  }
 },
 "nbformat": 4,
 "nbformat_minor": 2
}
